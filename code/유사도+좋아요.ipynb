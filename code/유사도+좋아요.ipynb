{
 "cells": [
  {
   "cell_type": "markdown",
   "metadata": {},
   "source": [
    "# 기본 세팅"
   ]
  },
  {
   "cell_type": "markdown",
   "metadata": {},
   "source": [
    "# user -"
   ]
  },
  {
   "cell_type": "code",
   "execution_count": 2,
   "metadata": {},
   "outputs": [],
   "source": [
    "import pandas as pd"
   ]
  },
  {
   "cell_type": "code",
   "execution_count": 3,
   "metadata": {},
   "outputs": [],
   "source": [
    "from sklearn.metrics.pairwise import cosine_similarity"
   ]
  },
  {
   "cell_type": "code",
   "execution_count": 4,
   "metadata": {},
   "outputs": [],
   "source": [
    "user = pd.read_csv('user_category.csv')"
   ]
  },
  {
   "cell_type": "markdown",
   "metadata": {},
   "source": [
    "### 카테고리만"
   ]
  },
  {
   "cell_type": "code",
   "execution_count": 328,
   "metadata": {},
   "outputs": [],
   "source": [
    "user_category = user.iloc[:,[1,2,3,4,5,6,7,8,9,10,11,12,13,14,15,16,17,18,19,20,21,22]]"
   ]
  },
  {
   "cell_type": "code",
   "execution_count": 330,
   "metadata": {},
   "outputs": [
    {
     "data": {
      "text/plain": [
       "Index(['category_life', 'category_world', 'category_environment',\n",
       "       'category_human', 'category_disaster', 'category_country',\n",
       "       'category_home', 'category_medic', 'category_education',\n",
       "       'category_administration', 'category_consulting', 'category_culture',\n",
       "       'category_physical', 'category_history', 'category_circles',\n",
       "       'category_travel', 'category_marketing', 'category_social',\n",
       "       'category_plan', 'category_language', 'category_scene', 'category_etc'],\n",
       "      dtype='object')"
      ]
     },
     "execution_count": 330,
     "metadata": {},
     "output_type": "execute_result"
    }
   ],
   "source": [
    "user_category.columns"
   ]
  },
  {
   "cell_type": "markdown",
   "metadata": {},
   "source": [
    "# content -"
   ]
  },
  {
   "cell_type": "code",
   "execution_count": 318,
   "metadata": {},
   "outputs": [],
   "source": [
    "content = pd.read_csv('utf8_merge.csv')"
   ]
  },
  {
   "cell_type": "markdown",
   "metadata": {},
   "source": [
    "### 카테고리만"
   ]
  },
  {
   "cell_type": "code",
   "execution_count": 334,
   "metadata": {},
   "outputs": [],
   "source": [
    "content_category=content.iloc[:,[8,9,10,11,12,13,14,15,16,17,18,19,20,21,22,23,24,25,26,27,28,29]]"
   ]
  },
  {
   "cell_type": "code",
   "execution_count": 335,
   "metadata": {},
   "outputs": [
    {
     "data": {
      "text/plain": [
       "Index(['category_life', 'category_world', 'category_environment',\n",
       "       'category_human', 'category_disaster', 'category_country',\n",
       "       'category_home', 'category_medic', 'category_education',\n",
       "       'category_administration', 'category_consulting', 'category_culture',\n",
       "       'category_physical', 'category_history', 'category_circles',\n",
       "       'category_travel', 'category_marketign', 'category_social',\n",
       "       'category_plan', 'category_language', 'category_scene', 'category_etc'],\n",
       "      dtype='object')"
      ]
     },
     "execution_count": 335,
     "metadata": {},
     "output_type": "execute_result"
    }
   ],
   "source": [
    "content_category.columns"
   ]
  },
  {
   "cell_type": "markdown",
   "metadata": {},
   "source": [
    "## Matrix 만들기"
   ]
  },
  {
   "cell_type": "code",
   "execution_count": 311,
   "metadata": {},
   "outputs": [],
   "source": [
    "def MakeMatrix(df):   \n",
    "    total_list=[]\n",
    "    for i in range(len(df)):\n",
    "        userlist=[]\n",
    "        for j in range(len(df.columns)):\n",
    "            userlist.append(df.iloc[:,j][i])\n",
    "        total_list.append(userlist)\n",
    "    return total_list"
   ]
  },
  {
   "cell_type": "code",
   "execution_count": 338,
   "metadata": {},
   "outputs": [],
   "source": [
    "user_matrix = MakeMatrix(user_category)"
   ]
  },
  {
   "cell_type": "code",
   "execution_count": 339,
   "metadata": {},
   "outputs": [],
   "source": [
    "content_matrix = MakeMatrix(content_category)"
   ]
  },
  {
   "cell_type": "markdown",
   "metadata": {},
   "source": [
    "----"
   ]
  },
  {
   "cell_type": "markdown",
   "metadata": {},
   "source": [
    "# user가 @번 게시글 좋아요 눌렀다."
   ]
  },
  {
   "cell_type": "markdown",
   "metadata": {},
   "source": [
    "## 유저의 카테고리를 like로 저장 후, 처리한다.\n",
    "## 나중에는 원본으로 바로 접근해도 될 듯"
   ]
  },
  {
   "cell_type": "code",
   "execution_count": 371,
   "metadata": {},
   "outputs": [],
   "source": [
    "like_ = user_matrix"
   ]
  },
  {
   "cell_type": "code",
   "execution_count": 372,
   "metadata": {},
   "outputs": [],
   "source": [
    "def summix(user, content):\n",
    "    like_sub=[]\n",
    "    for i in range(len(like_[0])):\n",
    "        like_sub.append(content_matrix[content][i] + like_[user][i])\n",
    "\n",
    "    print(like_sub)\n",
    "    like_[user]=like_sub"
   ]
  },
  {
   "cell_type": "markdown",
   "metadata": {},
   "source": [
    "### 4번 유저가 2번 게시글을 좋아요 눌렀다?"
   ]
  },
  {
   "cell_type": "code",
   "execution_count": 378,
   "metadata": {
    "scrolled": true
   },
   "outputs": [
    {
     "name": "stdout",
     "output_type": "stream",
     "text": [
      "[0, 0, 8, 0, 0, 0, 0, 0, 0, 0, 0, 0, 0, 7, 0, 0, 0, 0, 0, 0, 0, 0.2]\n"
     ]
    }
   ],
   "source": [
    "summix(4,2)"
   ]
  },
  {
   "cell_type": "code",
   "execution_count": 380,
   "metadata": {},
   "outputs": [],
   "source": [
    "def maxuser(user):\n",
    "    reverse_cos=cosine_similarity(user_matrix,content_matrix)\n",
    "    reverse_list=reverse_cos[user].tolist()\n",
    "\n",
    "    new_list=[]\n",
    "    for i in range(len(reverse_list)):\n",
    "        new_list.append([reverse_list[i],i])\n",
    "    new_list.sort(reverse=True)\n",
    "    \n",
    "    # 상위 5개만 뽑아라\n",
    "    for i in range(0,5):\n",
    "        print('{}번째 게시글입니다. 유사도는 {}'.format(new_list[:5][i][1],new_list[:5][i][0]))"
   ]
  },
  {
   "cell_type": "code",
   "execution_count": 381,
   "metadata": {},
   "outputs": [
    {
     "name": "stdout",
     "output_type": "stream",
     "text": [
      "773번째 게시글입니다. 유사도는 0.9976086055845276\n",
      "170번째 게시글입니다. 유사도는 0.9976086055845276\n",
      "63번째 게시글입니다. 유사도는 0.9976086055845276\n",
      "2번째 게시글입니다. 유사도는 0.9976086055845276\n",
      "736번째 게시글입니다. 유사도는 0.8145440155638433\n"
     ]
    }
   ],
   "source": [
    "maxuser(4)"
   ]
  },
  {
   "cell_type": "code",
   "execution_count": 9,
   "metadata": {},
   "outputs": [],
   "source": [
    "user = pd.read_csv('utf8_user.csv')"
   ]
  },
  {
   "cell_type": "code",
   "execution_count": 11,
   "metadata": {
    "scrolled": true
   },
   "outputs": [],
   "source": [
    "user.to_csv('ansi_user.csv',encoding='ansi',index=False)"
   ]
  },
  {
   "cell_type": "code",
   "execution_count": null,
   "metadata": {},
   "outputs": [],
   "source": []
  }
 ],
 "metadata": {
  "kernelspec": {
   "display_name": "Python 3",
   "language": "python",
   "name": "python3"
  },
  "language_info": {
   "codemirror_mode": {
    "name": "ipython",
    "version": 3
   },
   "file_extension": ".py",
   "mimetype": "text/x-python",
   "name": "python",
   "nbconvert_exporter": "python",
   "pygments_lexer": "ipython3",
   "version": "3.6.5"
  }
 },
 "nbformat": 4,
 "nbformat_minor": 2
}
