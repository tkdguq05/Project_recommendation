{
 "cells": [
  {
   "cell_type": "markdown",
   "metadata": {},
   "source": [
    "# 형식\n",
    "\n",
    "1. \"2018. 8. 3(금) ~ 8. 19(일)\"\n",
    "    - 정규식 -> 숫자만 남겨\n",
    "    - 글자수가 2글자 -> 월, 일에 0이 없음 \n",
    "    - 글자수가 3글자 -> 2018 없고, 월 or 일에 0이 없음\n",
    "    - 글자수가 4글자 -> 0이 잘 들어가 있기에 2018만 붙여\n",
    "    - 글자수가 6글자 -> 2018 제외하고 월, 일에 0이 없음\n",
    "    - 글자수가 7글자 -> 월 or 일에 0이 없음\n",
    "    - 글자수가 8글자 -> ok\n",
    "2. ~2018.08.17\n",
    "    - ~를 기준으로 앞이 없다 -> 작성 시간 받아서 앞에 채우기\n",
    "\n",
    "4. 9월 2일(일) 까지\n",
    "    - 까지가 붙으면 맨 앞에 ~ 붙이기 -> 있으면 pass (try exception)\n",
    "\n",
    "5. 상시\n",
    "    - find('상시') => 상시"
   ]
  },
  {
   "cell_type": "code",
   "execution_count": 449,
   "metadata": {},
   "outputs": [
    {
     "data": {
      "text/plain": [
       "0                   2018. 8. 3(금) ~ 8. 19(일)\n",
       "1                        ~2018.08.17 PM11:59\n",
       "2                                    ~8/9(목)\n",
       "3    2018년 08월 1일(수) ~ 2018년 08월 15일(수) 입니다.\n",
       "4                                9월 2일(일) 까지\n",
       "Name: 모집 기간, dtype: object"
      ]
     },
     "execution_count": 449,
     "metadata": {},
     "output_type": "execute_result"
    }
   ],
   "source": [
    "df['모집 기간'].head()"
   ]
  },
  {
   "cell_type": "code",
   "execution_count": 2,
   "metadata": {},
   "outputs": [],
   "source": [
    "import re\n",
    "import pandas as pd"
   ]
  },
  {
   "cell_type": "code",
   "execution_count": 3,
   "metadata": {},
   "outputs": [],
   "source": [
    "df = pd.read_csv('mobile_spec_up4.csv',encoding='ansi')"
   ]
  },
  {
   "cell_type": "code",
   "execution_count": 4,
   "metadata": {},
   "outputs": [],
   "source": [
    "def checklen(doc):\n",
    "    # 길이 2\n",
    "    if len(doc) == 2:\n",
    "        list1 = list(doc)\n",
    "        list1[0] = \"0\"+list1[0]\n",
    "        list1[1] = \"0\"+list1[1]\n",
    "        name = ''.join(list1)\n",
    "        name = \"2018\"+name\n",
    "        print(name)\n",
    "\n",
    "    # 길이 3\n",
    "    elif len(doc) == 3:\n",
    "        # 길이가 3인데 첫 글자가 0이야 -> 두번째 글자에 0 추가\n",
    "        if doc[0] == \"0\":\n",
    "            list1=list(doc)\n",
    "            list1[1] = \"0\"+list1[1]\n",
    "            name = ''.join(list1)\n",
    "            name = \"2018\"+name\n",
    "            print(name)\n",
    "\n",
    "        # 길이가 3인데 첫 글자가 0이 아니야 -> 첫 번째 글자에 0 추가\n",
    "        else:\n",
    "            list1 = list(doc)\n",
    "            list1[0] = \"20180\"+list1[0]\n",
    "            name = ''.join(list1)\n",
    "            print(name)\n",
    "\n",
    "    # 길이 4\n",
    "    elif len(doc) == 4:\n",
    "        doc = \"2018\"+doc\n",
    "        print(doc)\n",
    "\n",
    "    # 길이 6\n",
    "    elif len(doc) == 6:\n",
    "        # ex 18.08.19 \n",
    "        if doc.find('18') == 0:\n",
    "            list1 = list(doc)\n",
    "            list1[0] = \"20\"+list1[0]\n",
    "            name = ''.join(list1)\n",
    "            print(name)\n",
    "        else:\n",
    "            list1 = list(doc)\n",
    "            list1[4] = \"0\"+list1[4]\n",
    "            list1[5] = \"0\"+list1[5]\n",
    "            name = ''.join(list1)\n",
    "            print(name)\n",
    "\n",
    "    # 길이 7\n",
    "    # 5번째 글자가 0이라면, 일 에는 0이 없음\n",
    "    elif len(doc) == 7:\n",
    "        if doc[4] == '0':\n",
    "            list1 = list(doc)\n",
    "            list1[6] = \"0\"+list1[6]\n",
    "            name = ''.join(list1)\n",
    "            print(name)\n",
    "        # 5번째 글자가 0이 아니라면, 월에 0이 없다고 판단.\n",
    "        else:\n",
    "            list1 = list(doc)\n",
    "            list1[4] = \"0\"+list1[4]\n",
    "            name = ''.join(list1)\n",
    "            print(name)\n",
    "    elif len(doc) == 8:\n",
    "        print(doc)\n",
    "        \n",
    "    else:\n",
    "        print('out')"
   ]
  },
  {
   "cell_type": "code",
   "execution_count": 6,
   "metadata": {},
   "outputs": [
    {
     "name": "stdout",
     "output_type": "stream",
     "text": [
      "0\n",
      "======================================\n",
      "20180803\n",
      "20180819\n",
      "======================================\n",
      "1\n",
      "======================================\n",
      "20180808\n",
      "out\n",
      "======================================\n",
      "2\n",
      "======================================\n",
      "20180808\n",
      "20180809\n",
      "======================================\n",
      "3\n",
      "======================================\n",
      "20180801\n",
      "20180815\n",
      "======================================\n",
      "4\n",
      "======================================\n",
      "20180808\n",
      "20180902\n",
      "======================================\n",
      "5\n",
      "======================================\n",
      "20180806\n",
      "20180817\n",
      "======================================\n",
      "6\n",
      "======================================\n",
      "20180716\n",
      "20180810\n",
      "======================================\n",
      "7\n",
      "======================================\n",
      "81224824\n",
      "out\n",
      "======================================\n",
      "8\n",
      "======================================\n",
      "20180807\n",
      "out\n",
      "======================================\n",
      "9\n",
      "======================================\n",
      "20180807\n",
      "out\n",
      "======================================\n"
     ]
    }
   ],
   "source": [
    "for i in range(0, 10):\n",
    "    doc = df['모집 기간'][i]\n",
    "    # 아직 정제되지 않은 형식의 date가 남아 있을 수도 있기에,\n",
    "    doc = re.sub(r\"[>]\",\"\",doc).strip()\n",
    "    print(i)\n",
    "    print(\"======================================\")\n",
    "    # 까지라는 단어가 있다면\n",
    "    if (doc.find('상시') !=-1 or doc.find('수시')) != -1:\n",
    "        print('상시모집')\n",
    "    else:\n",
    "        if doc.find('까지') != -1:\n",
    "            # ~가 존재하지 않는다면,\n",
    "            if doc.find('~') == -1:\n",
    "                first = df['작성 날짜'][i]\n",
    "                print(first)\n",
    "                ll = re.sub(r\"[^0-9]\",\"\",doc).strip()\n",
    "                last = checklen(ll)\n",
    "            # ~가 존재한다면,\n",
    "            else:\n",
    "                # ~가 맨 앞에 나와 있니?\n",
    "                if doc.find('~') == 0:\n",
    "                    first = df['작성 날짜'][i]\n",
    "                    print(first)\n",
    "                    ll = re.sub(r\"[^0-9]\",\"\",doc[doc.find('~'):].strip())\n",
    "                    last = checklen(ll)\n",
    "                else:\n",
    "                    first_sub = re.sub(r\"[^0-9]\",\"\",doc[:doc.find('~')].strip())\n",
    "                    last_sub = re.sub(r\"[^0-9]\",\"\",doc[doc.find('~'):].strip())\n",
    "                    checklen(first_sub)\n",
    "                    checklen(last_sub)   \n",
    "\n",
    "        # 까지라는 단어가 없다면\n",
    "        else:\n",
    "            # ~가 맨 앞에 나와 있니?\n",
    "            if doc.find('~') == 0:\n",
    "                first = df['작성 날짜'][i]\n",
    "                print(first)\n",
    "                last_sub = re.sub(r\"[^0-9]\",\"\",doc[doc.find('~'):].strip())\n",
    "                checklen(last_sub)    \n",
    "         # (일반적인 상황)\n",
    "            else:\n",
    "                first_sub = re.sub(r\"[^0-9]\",\"\",doc[:doc.find('~')].strip())\n",
    "                last_sub = re.sub(r\"[^0-9]\",\"\",doc[doc.find('~'):].strip())\n",
    "                checklen(first_sub)\n",
    "                checklen(last_sub)    \n",
    "\n",
    "    print(\"======================================\")"
   ]
  },
  {
   "cell_type": "markdown",
   "metadata": {},
   "source": [
    "____"
   ]
  },
  {
   "cell_type": "markdown",
   "metadata": {},
   "source": [
    "____"
   ]
  },
  {
   "cell_type": "markdown",
   "metadata": {},
   "source": [
    "____"
   ]
  },
  {
   "cell_type": "markdown",
   "metadata": {},
   "source": [
    "____"
   ]
  },
  {
   "cell_type": "code",
   "execution_count": 436,
   "metadata": {},
   "outputs": [
    {
     "data": {
      "text/plain": [
       "'18.08.01~18.08.13'"
      ]
     },
     "execution_count": 436,
     "metadata": {},
     "output_type": "execute_result"
    }
   ],
   "source": [
    "doc = df['모집 기간'][47]\n",
    "doc"
   ]
  },
  {
   "cell_type": "code",
   "execution_count": 327,
   "metadata": {},
   "outputs": [
    {
     "name": "stdout",
     "output_type": "stream",
     "text": [
      "20180809\n"
     ]
    }
   ],
   "source": [
    "# 길이 2\n",
    "if len(bb2) == 2:\n",
    "    list1 = list(bb2)\n",
    "    list1[0] = \"0\"+list1[0]\n",
    "    list1[1] = \"0\"+list1[1]\n",
    "    name = ''.join(list1)\n",
    "    name = \"2018\"+name\n",
    "    print(name)"
   ]
  },
  {
   "cell_type": "code",
   "execution_count": 328,
   "metadata": {},
   "outputs": [
    {
     "name": "stdout",
     "output_type": "stream",
     "text": [
      "첫글자 0 아님  20180819\n"
     ]
    }
   ],
   "source": [
    "# 길이 3\n",
    "if len(bb) == 3:\n",
    "    # 길이가 3인데 첫 글자가 0이야 -> 두번째 글자에 0 추가\n",
    "    if bb[0] == \"0\":\n",
    "        list1=list(bb)\n",
    "        list1[1] = \"0\"+list1[1]\n",
    "        name = ''.join(list1)\n",
    "        name = \"2018\"+name\n",
    "        print(\"첫글자 0임\", name)\n",
    "\n",
    "    # 길이가 3인데 첫 글자가 0이 아니야 -> 첫 번째 글자에 0 추가\n",
    "    else:\n",
    "        list1 = list(bb)\n",
    "        list1[0] = \"20180\"+list1[0]\n",
    "        name = ''.join(list1)\n",
    "        print(\"첫글자 0 아님 \",name)\n"
   ]
  },
  {
   "cell_type": "code",
   "execution_count": 332,
   "metadata": {},
   "outputs": [
    {
     "name": "stdout",
     "output_type": "stream",
     "text": [
      "20180729\n"
     ]
    }
   ],
   "source": [
    "# 길이 4\n",
    "if len(bb4) == 4:\n",
    "    bb4 = \"2018\"+bb4\n",
    "    print(bb4)"
   ]
  },
  {
   "cell_type": "code",
   "execution_count": 439,
   "metadata": {},
   "outputs": [
    {
     "data": {
      "text/plain": [
       "'20180729'"
      ]
     },
     "execution_count": 439,
     "metadata": {},
     "output_type": "execute_result"
    }
   ],
   "source": [
    "bb4"
   ]
  },
  {
   "cell_type": "code",
   "execution_count": 441,
   "metadata": {},
   "outputs": [
    {
     "data": {
      "text/plain": [
       "'18.08.01~18.08.13'"
      ]
     },
     "execution_count": 441,
     "metadata": {},
     "output_type": "execute_result"
    }
   ],
   "source": [
    "doc"
   ]
  },
  {
   "cell_type": "code",
   "execution_count": 442,
   "metadata": {},
   "outputs": [],
   "source": [
    "bb6 = \"180810\""
   ]
  },
  {
   "cell_type": "code",
   "execution_count": 330,
   "metadata": {},
   "outputs": [
    {
     "name": "stdout",
     "output_type": "stream",
     "text": [
      "20180809\n"
     ]
    }
   ],
   "source": [
    "# 길이 6\n",
    "if len(bb6) == 6:\n",
    "    if bb6.find('18') == 0:\n",
    "        list1 = list(bb6)\n",
    "        list1[0] = \"20\"+list1[0]\n",
    "        name = ''.join(list1)\n",
    "        print(name)\n",
    "    else:\n",
    "        list1 = list(bb6)\n",
    "        list1[4] = \"0\"+list1[4]\n",
    "        list1[5] = \"0\"+list1[5]\n",
    "        name = ''.join(list1)\n",
    "        print(name)"
   ]
  },
  {
   "cell_type": "code",
   "execution_count": 315,
   "metadata": {},
   "outputs": [],
   "source": [
    "bb7_1 = \"2018719\"\n",
    "bb7_2 = \"2018079\"\n",
    "# 128이 12월 8일인지, 1월 28일인지 구분하기....\n",
    "bb7_3 = \"2018128\""
   ]
  },
  {
   "cell_type": "code",
   "execution_count": 333,
   "metadata": {},
   "outputs": [
    {
     "name": "stdout",
     "output_type": "stream",
     "text": [
      "20180719\n"
     ]
    }
   ],
   "source": [
    "# 길이 7\n",
    "# 5번째 글자가 0이라면, 일 에는 0이 없음\n",
    "if len(bb7_1) == 7:\n",
    "    if bb7_1[4] == '0':\n",
    "        list1 = list(bb7_1)\n",
    "        list1[6] = \"0\"+list1[6]\n",
    "        name = ''.join(list1)\n",
    "        print(name)\n",
    "    # 5번째 글자가 0이 아니라면, 월에 0이 없다고 판단.\n",
    "    else:\n",
    "        list1 = list(bb7_1)\n",
    "        list1[4] = \"0\"+list1[4]\n",
    "        name = ''.join(list1)\n",
    "        print(name)"
   ]
  }
 ],
 "metadata": {
  "kernelspec": {
   "display_name": "Python 3",
   "language": "python",
   "name": "python3"
  },
  "language_info": {
   "codemirror_mode": {
    "name": "ipython",
    "version": 3
   },
   "file_extension": ".py",
   "mimetype": "text/x-python",
   "name": "python",
   "nbconvert_exporter": "python",
   "pygments_lexer": "ipython3",
   "version": "3.6.5"
  }
 },
 "nbformat": 4,
 "nbformat_minor": 2
}
