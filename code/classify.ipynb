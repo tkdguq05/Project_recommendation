{
 "cells": [
  {
   "cell_type": "code",
   "execution_count": 218,
   "metadata": {},
   "outputs": [],
   "source": [
    "from konlpy.tag import Kkma\n",
    "import nltk\n",
    "import pandas as pd"
   ]
  },
  {
   "cell_type": "code",
   "execution_count": 219,
   "metadata": {},
   "outputs": [],
   "source": [
    "kkma = Kkma()"
   ]
  },
  {
   "cell_type": "code",
   "execution_count": 220,
   "metadata": {},
   "outputs": [],
   "source": [
    "df = pd.read_csv('mobile_spec_up4.csv', encoding='ansi')"
   ]
  },
  {
   "cell_type": "code",
   "execution_count": 221,
   "metadata": {},
   "outputs": [],
   "source": [
    "# 한글\n",
    "\n",
    "koParser = nltk.RegexpParser(\"\"\"\n",
    "    NP: {<N.*>*<N.*>?}\n",
    "    OP: {<N.*>*<JKO>*}\n",
    "    VP: {<M.*><V.*>*<E.*>*}\n",
    "\"\"\")"
   ]
  },
  {
   "cell_type": "code",
   "execution_count": 222,
   "metadata": {},
   "outputs": [
    {
     "data": {
      "text/plain": [
       "Index(['제목', '작성 날짜', '주최사', '활동내용', '모집 기간', '모집 인원', '모집 대상', '참가 비용 유/무',\n",
       "       '우대 사항', '활동 지역', '활동 기간'],\n",
       "      dtype='object')"
      ]
     },
     "execution_count": 222,
     "metadata": {},
     "output_type": "execute_result"
    }
   ],
   "source": [
    "df.columns"
   ]
  },
  {
   "cell_type": "code",
   "execution_count": 223,
   "metadata": {},
   "outputs": [],
   "source": [
    "dics = {}\n",
    "for i in range(0, 10):\n",
    "    lists = []\n",
    "    koTags = kkma.pos(df['활동내용'][i])\n",
    "    tree = koParser.parse(koTags)\n",
    "    for subtree in tree.subtrees():\n",
    "        if subtree.label() == \"NP\": # 동사를 찾고 싶으면 NP 대신에 VP를 넣는다.\n",
    "            a = \" \".join(e[0] for e in list(subtree)) # 단어와 형태소가 tuple로 묶여서 들어가있음\n",
    "#             print(a)\n",
    "            if a.find(' ') != -1:\n",
    "                for j in range(len(a.split())):\n",
    "                    lists.append(a.split()[j])\n",
    "            else:\n",
    "                lists.append(a)\n",
    "            dics[i]=lists\n",
    "# dics"
   ]
  },
  {
   "cell_type": "code",
   "execution_count": 216,
   "metadata": {},
   "outputs": [],
   "source": [
    "voca ={'생활편의지원': ['목욕','호스피스', '장애인', '사회적응훈련', '발달장애인', '지적장애인',\n",
    "                  '저소득', '중증발달장애인', '다문화가정', '취약계층', '다문화',  '홀몸', '보조',\n",
    "                  '요양', '치매', '미용', '경로', '소외계층', '무료급식', '버물리', '해충퇴치',\n",
    "                  '말벗', '부채', '세제', '차량운행', '수제비누', '독거', '마을회관', '심신기능',\n",
    "                  '급식봉사', '이미용', '어르신', '사회적', '정서지원', '시각장애인', '안마',\n",
    "                  '중증장애인', '케어', '주방보조', '커트', '천연비누', '수분크림', '밥차',\n",
    "                  '장애아동', '샤워보조', '도시락', '설거지', '설겆이', '직업훈련', '밑반찬',\n",
    "                  '수세미', '소외이웃', '치매', '중풍'],\n",
    "       \n",
    "      '주거환경': ['환경미화', '시설청소', '시설', '페인트','정화', '주거환경', '쉼터',\n",
    "               '환경개선', '순찰', '범죄예방', '치매', '벼룩시장', '이웃', '정리', '정돈',\n",
    "               '쓰레기', '줍기', '울타리', '안전위해요인', '벽화', '화분', '쾌적', '유동광고물',\n",
    "               '시설보수', '주거공간', '도배', '장판', '방풍', '방충망', '도서정리',\n",
    "               '불법광고물', '전단지', '불편', '모니터링', '쓸기', '제거', '전등교체'],\n",
    "       \n",
    "      '상담' : [ '법무', '신용', '회복', '법률', '변호사', '보조', '안부', '건강확인',\n",
    "              '상담서비스', '중독', '예방', '수화통역', '심리상담', '미술치료', '위탁보호',\n",
    "              '종결아동', '상담센터', '임상심리검사', '가족치유', '심리학', '가정학',\n",
    "              '갈등', '코치','멘토', '민원', '위기', '우범', '형사사건', '범죄예방',\n",
    "              '기초상담', '상담학', '정서적'],\n",
    "       \n",
    "      '행정지원': ['물품정리', '우편업무', '행정지원', '일손돕기', '자료수집', '자료편집',\n",
    "               '파워포인트', '포토샵', '자료', '지원활동', '안내', '질서유지', '데이터',\n",
    "               '입력', '운영보조', '컴퓨터', 'DB', '서가', '도서배열', '활동보조', '작업',\n",
    "               '분류', '자료실', '코딩', '엑셀', '라벨', 'PPT', '행정업무'],\n",
    "       \n",
    "      '교육':['학생','방과후','방과 후','방과후교실', '수업', '학습', '학습지도','지도',\n",
    "          '영어수업','영어교육','영어지도','교재','멘토링','멘토','컴퓨터 교육',\n",
    "          '휴대전화 교육','스마트폰 학습','교육보조','수업 보조', '재능기부', '선생님',\n",
    "          '독서', '멘토링 강사', '학생지도','교육지도', '교육봉사',  '한국어지도',\n",
    "          '기초학습지도', '기초학습', '레슨 지도', '재능나눔', '학습도우미',  '강사',\n",
    "           '컴퓨터교육', '청소년 교육', '미술지도', '놀이활동', '미술치료교육', \n",
    "          '캠프 봉사자', '숙제 지도', '아동학습지도','중등영어기초','교과학습','학습지원',\n",
    "          '독서지도','학습활동 도우미'],\n",
    "       \n",
    "      '보건의료':['건강관리','병원','복지센터','심정지','심폐소생술',\n",
    "                'CPR','자동심장충격기','건강증진','검진','의약','감염병','감염','질환',\n",
    "                '질환 예방','긴급대응','의료원','요양병원','건강센터','건강체조','의료봉사',\n",
    "                '의료봉사단체','간호학','어르신','어르신 건강','보건소','예방접종','환자',\n",
    "                '내원','병동','치료','간호','보건', '재활프로그램','치매','이동검진',\n",
    "                '암검진','진료','치매안심센터','물리치료'],\n",
    "       \n",
    "       '문화체육':['영화제','강연콘서트','행사준비보조','축제','페스티벌', \n",
    "                  '행사보조','행사진행보조','공연','공연장','행사장','체험부스','문화행사',\n",
    "                  '경기','축구','대회','캠페인','인형극제','박물관','미술관','기념관',\n",
    "                  '경기장','경기운영 보조', '스포츠','문화제'],\n",
    "       \n",
    "        '환경정화':['집게','환경','정화','정비','클린','수거','평화','공원',\n",
    "                '미화','깨끗한','거리','청결','마을','숲','플라스틱','문화',\n",
    "                '쓰레기','생태','해수욕장','녹색','청소','제거','광고물',\n",
    "                '주차장','비닐봉투','장갑','쾌적','관내','푸르','아름',\n",
    "                '싹쓸이','감시','유해','무단','투기','질서','외래','폐지','야생동물'],\n",
    "       \n",
    "        '인권':['예절','편견','점검','양성','개선','행사','나눔','기아','캠페인',\n",
    "              '권익','증진','다문화','소음'],\n",
    "       \n",
    "       '국제협력':['해외','피해','제3','다문화','다국어','보건','외교',\n",
    "               '외국인','유엔','평화','NGO','글로벌'],\n",
    "    \n",
    "       '농어촌':['농촌','일손','고추','바다','살리기','급식','농가','도시',\n",
    "              '농원','돕기','일감','제초','마을','농활','농어촌','텃밭',\n",
    "              '하우스','가꾸기','건강']\n",
    "      }"
   ]
  },
  {
   "cell_type": "code",
   "execution_count": 217,
   "metadata": {
    "scrolled": true
   },
   "outputs": [
    {
     "name": "stdout",
     "output_type": "stream",
     "text": [
      "목욕 (은)는 생활편의지원 에 속합니다\n",
      "그러므로 8 번째 게시글은 key_voca의 0 번째에 속합니다.\n",
      "\n",
      "장애인 (은)는 생활편의지원 에 속합니다\n",
      "그러므로 3 번째 게시글은 key_voca의 0 번째에 속합니다.\n",
      "\n",
      "보조 (은)는 생활편의지원 에 속합니다\n",
      "그러므로 2 번째 게시글은 key_voca의 0 번째에 속합니다.\n",
      "\n",
      "보조 (은)는 생활편의지원 에 속합니다\n",
      "그러므로 3 번째 게시글은 key_voca의 0 번째에 속합니다.\n",
      "\n",
      "보조 (은)는 생활편의지원 에 속합니다\n",
      "그러므로 3 번째 게시글은 key_voca의 0 번째에 속합니다.\n",
      "\n",
      "보조 (은)는 생활편의지원 에 속합니다\n",
      "그러므로 3 번째 게시글은 key_voca의 0 번째에 속합니다.\n",
      "\n",
      "독거 (은)는 생활편의지원 에 속합니다\n",
      "그러므로 3 번째 게시글은 key_voca의 0 번째에 속합니다.\n",
      "\n",
      "설거지 (은)는 생활편의지원 에 속합니다\n",
      "그러므로 3 번째 게시글은 key_voca의 0 번째에 속합니다.\n",
      "\n",
      "시설 (은)는 주거환경 에 속합니다\n",
      "그러므로 3 번째 게시글은 key_voca의 1 번째에 속합니다.\n",
      "\n",
      "보조 (은)는 상담 에 속합니다\n",
      "그러므로 2 번째 게시글은 key_voca의 2 번째에 속합니다.\n",
      "\n",
      "보조 (은)는 상담 에 속합니다\n",
      "그러므로 3 번째 게시글은 key_voca의 2 번째에 속합니다.\n",
      "\n",
      "보조 (은)는 상담 에 속합니다\n",
      "그러므로 3 번째 게시글은 key_voca의 2 번째에 속합니다.\n",
      "\n",
      "보조 (은)는 상담 에 속합니다\n",
      "그러므로 3 번째 게시글은 key_voca의 2 번째에 속합니다.\n",
      "\n",
      "예방 (은)는 상담 에 속합니다\n",
      "그러므로 3 번째 게시글은 key_voca의 2 번째에 속합니다.\n",
      "\n",
      "멘토링 (은)는 상담 에 속합니다\n",
      "그러므로 7 번째 게시글은 key_voca의 2 번째에 속합니다.\n",
      "\n",
      "안내 (은)는 행정지원 에 속합니다\n",
      "그러므로 2 번째 게시글은 key_voca의 3 번째에 속합니다.\n",
      "\n",
      "안내 (은)는 행정지원 에 속합니다\n",
      "그러므로 4 번째 게시글은 key_voca의 3 번째에 속합니다.\n",
      "\n",
      "초등학생 (은)는 교육 에 속합니다\n",
      "그러므로 7 번째 게시글은 key_voca의 4 번째에 속합니다.\n",
      "\n",
      "지도 (은)는 교육 에 속합니다\n",
      "그러므로 6 번째 게시글은 key_voca의 4 번째에 속합니다.\n",
      "\n",
      "멘토링 (은)는 교육 에 속합니다\n",
      "그러므로 7 번째 게시글은 key_voca의 4 번째에 속합니다.\n",
      "\n",
      "멘토링 (은)는 교육 에 속합니다\n",
      "그러므로 7 번째 게시글은 key_voca의 4 번째에 속합니다.\n",
      "\n",
      "공연 (은)는 문화체육 에 속합니다\n",
      "그러므로 4 번째 게시글은 key_voca의 6 번째에 속합니다.\n",
      "\n",
      "공연장 (은)는 문화체육 에 속합니다\n",
      "그러므로 4 번째 게시글은 key_voca의 6 번째에 속합니다.\n",
      "\n",
      "공연장 (은)는 문화체육 에 속합니다\n",
      "그러므로 4 번째 게시글은 key_voca의 6 번째에 속합니다.\n",
      "\n",
      "대회 (은)는 문화체육 에 속합니다\n",
      "그러므로 3 번째 게시글은 key_voca의 6 번째에 속합니다.\n",
      "\n",
      "대회 (은)는 문화체육 에 속합니다\n",
      "그러므로 6 번째 게시글은 key_voca의 6 번째에 속합니다.\n",
      "\n",
      "캠페인 (은)는 문화체육 에 속합니다\n",
      "그러므로 3 번째 게시글은 key_voca의 6 번째에 속합니다.\n",
      "\n",
      "스포츠 (은)는 문화체육 에 속합니다\n",
      "그러므로 2 번째 게시글은 key_voca의 6 번째에 속합니다.\n",
      "\n",
      "문화 (은)는 환경정화 에 속합니다\n",
      "그러므로 7 번째 게시글은 key_voca의 7 번째에 속합니다.\n",
      "\n",
      "청소년 (은)는 환경정화 에 속합니다\n",
      "그러므로 2 번째 게시글은 key_voca의 7 번째에 속합니다.\n",
      "\n",
      "청소년 (은)는 환경정화 에 속합니다\n",
      "그러므로 2 번째 게시글은 key_voca의 7 번째에 속합니다.\n",
      "\n",
      "청소 (은)는 환경정화 에 속합니다\n",
      "그러므로 3 번째 게시글은 key_voca의 7 번째에 속합니다.\n",
      "\n",
      "청소 (은)는 환경정화 에 속합니다\n",
      "그러므로 3 번째 게시글은 key_voca의 7 번째에 속합니다.\n",
      "\n",
      "청소년 (은)는 환경정화 에 속합니다\n",
      "그러므로 5 번째 게시글은 key_voca의 7 번째에 속합니다.\n",
      "\n",
      "행사 (은)는 인권 에 속합니다\n",
      "그러므로 3 번째 게시글은 key_voca의 8 번째에 속합니다.\n",
      "\n",
      "행사 (은)는 인권 에 속합니다\n",
      "그러므로 3 번째 게시글은 key_voca의 8 번째에 속합니다.\n",
      "\n",
      "행사 (은)는 인권 에 속합니다\n",
      "그러므로 3 번째 게시글은 key_voca의 8 번째에 속합니다.\n",
      "\n",
      "행사 (은)는 인권 에 속합니다\n",
      "그러므로 3 번째 게시글은 key_voca의 8 번째에 속합니다.\n",
      "\n",
      "행사 (은)는 인권 에 속합니다\n",
      "그러므로 4 번째 게시글은 key_voca의 8 번째에 속합니다.\n",
      "\n",
      "행사 (은)는 인권 에 속합니다\n",
      "그러므로 4 번째 게시글은 key_voca의 8 번째에 속합니다.\n",
      "\n",
      "나눔 (은)는 인권 에 속합니다\n",
      "그러므로 1 번째 게시글은 key_voca의 8 번째에 속합니다.\n",
      "\n",
      "나눔 (은)는 인권 에 속합니다\n",
      "그러므로 3 번째 게시글은 key_voca의 8 번째에 속합니다.\n",
      "\n",
      "나눔 (은)는 인권 에 속합니다\n",
      "그러므로 9 번째 게시글은 key_voca의 8 번째에 속합니다.\n",
      "\n",
      "캠페인 (은)는 인권 에 속합니다\n",
      "그러므로 3 번째 게시글은 key_voca의 8 번째에 속합니다.\n",
      "\n",
      "증진 (은)는 인권 에 속합니다\n",
      "그러므로 2 번째 게시글은 key_voca의 8 번째에 속합니다.\n",
      "\n",
      "해외 (은)는 국제협력 에 속합니다\n",
      "그러므로 3 번째 게시글은 key_voca의 9 번째에 속합니다.\n",
      "\n",
      "해외 (은)는 국제협력 에 속합니다\n",
      "그러므로 4 번째 게시글은 key_voca의 9 번째에 속합니다.\n",
      "\n",
      "농촌 (은)는 농어촌 에 속합니다\n",
      "그러므로 0 번째 게시글은 key_voca의 10 번째에 속합니다.\n",
      "\n",
      "일손 (은)는 농어촌 에 속합니다\n",
      "그러므로 0 번째 게시글은 key_voca의 10 번째에 속합니다.\n",
      "\n"
     ]
    }
   ],
   "source": [
    "Matrix = [[0 for y in range(len(voca))] for x in range(len(dics))]\n",
    "key_voca = list(voca.keys())\n",
    "\n",
    "for i in range(len(key_voca)):\n",
    "    for j in range(len(voca[key_voca[i]])):\n",
    "        for k in range(len(dics)):\n",
    "            for l in range(len(dics[k])):\n",
    "                if voca[key_voca[i]][j] in dics[k][l]:\n",
    "                    print('{0} (은)는 {1} 에 속합니다'.format(dics[k][l],key_voca[i]))\n",
    "                    print('그러므로 {0} 번째 게시글은 key_voca의 {1} 번째에 속합니다.\\n'.format(k, i))\n",
    "                    Matrix[k][i]+=1\n",
    "#                     print(key_voca[i], voca[key_voca[i]][j])"
   ]
  },
  {
   "cell_type": "code",
   "execution_count": 224,
   "metadata": {},
   "outputs": [
    {
     "data": {
      "text/plain": [
       "[[0, 0, 0, 0, 0, 0, 0, 0, 0, 0, 2],\n",
       " [0, 0, 0, 0, 0, 0, 0, 0, 1, 0, 0],\n",
       " [1, 0, 1, 1, 0, 0, 1, 2, 1, 0, 0],\n",
       " [6, 1, 4, 0, 0, 0, 2, 2, 6, 1, 0],\n",
       " [0, 0, 0, 1, 0, 0, 3, 0, 2, 1, 0],\n",
       " [0, 0, 0, 0, 0, 0, 0, 1, 0, 0, 0],\n",
       " [0, 0, 0, 0, 1, 0, 1, 0, 0, 0, 0],\n",
       " [0, 0, 1, 0, 3, 0, 0, 1, 0, 0, 0],\n",
       " [1, 0, 0, 0, 0, 0, 0, 0, 0, 0, 0],\n",
       " [0, 0, 0, 0, 0, 0, 0, 0, 1, 0, 0]]"
      ]
     },
     "execution_count": 224,
     "metadata": {},
     "output_type": "execute_result"
    }
   ],
   "source": [
    "Matrix"
   ]
  },
  {
   "cell_type": "code",
   "execution_count": 53,
   "metadata": {},
   "outputs": [],
   "source": [
    "ma0 = Matrix[3]"
   ]
  },
  {
   "cell_type": "code",
   "execution_count": 54,
   "metadata": {},
   "outputs": [
    {
     "data": {
      "text/plain": [
       "[6, 1, 4, 0, 0, 0, 2, 2, 6, 1, 0]"
      ]
     },
     "execution_count": 54,
     "metadata": {},
     "output_type": "execute_result"
    }
   ],
   "source": [
    "ma0"
   ]
  },
  {
   "cell_type": "code",
   "execution_count": 56,
   "metadata": {},
   "outputs": [
    {
     "data": {
      "text/plain": [
       "0"
      ]
     },
     "execution_count": 56,
     "metadata": {},
     "output_type": "execute_result"
    }
   ],
   "source": [
    "ma0.index(max(ma0))"
   ]
  },
  {
   "cell_type": "code",
   "execution_count": 225,
   "metadata": {},
   "outputs": [],
   "source": [
    "import numpy as np"
   ]
  },
  {
   "cell_type": "code",
   "execution_count": 226,
   "metadata": {},
   "outputs": [],
   "source": [
    "A = np.array(Matrix[3])"
   ]
  },
  {
   "cell_type": "code",
   "execution_count": 227,
   "metadata": {},
   "outputs": [],
   "source": [
    "mm = np.where(A==max(Matrix[3]))"
   ]
  },
  {
   "cell_type": "code",
   "execution_count": 228,
   "metadata": {},
   "outputs": [
    {
     "data": {
      "text/plain": [
       "1"
      ]
     },
     "execution_count": 228,
     "metadata": {},
     "output_type": "execute_result"
    }
   ],
   "source": [
    "len(mm)"
   ]
  },
  {
   "cell_type": "code",
   "execution_count": 229,
   "metadata": {},
   "outputs": [
    {
     "data": {
      "text/plain": [
       "2"
      ]
     },
     "execution_count": 229,
     "metadata": {},
     "output_type": "execute_result"
    }
   ],
   "source": [
    "len(mm[0])"
   ]
  },
  {
   "cell_type": "code",
   "execution_count": 230,
   "metadata": {},
   "outputs": [
    {
     "data": {
      "text/plain": [
       "0"
      ]
     },
     "execution_count": 230,
     "metadata": {},
     "output_type": "execute_result"
    }
   ],
   "source": [
    "mm[0][0]"
   ]
  },
  {
   "cell_type": "code",
   "execution_count": 231,
   "metadata": {},
   "outputs": [
    {
     "name": "stdout",
     "output_type": "stream",
     "text": [
      "생활편의지원\n",
      "인권\n"
     ]
    }
   ],
   "source": [
    "for i in range(len(mm[0])):\n",
    "    print(key_voca[mm[0][i]])"
   ]
  },
  {
   "cell_type": "code",
   "execution_count": 125,
   "metadata": {},
   "outputs": [
    {
     "data": {
      "text/plain": [
       "10"
      ]
     },
     "execution_count": 125,
     "metadata": {},
     "output_type": "execute_result"
    }
   ],
   "source": [
    "len(dics)"
   ]
  },
  {
   "cell_type": "code",
   "execution_count": 139,
   "metadata": {},
   "outputs": [
    {
     "data": {
      "text/plain": [
       "['생활편의지원',\n",
       " '주거환경',\n",
       " '상담',\n",
       " '행정지원',\n",
       " '교육',\n",
       " '보건의료',\n",
       " '문화체육',\n",
       " '환경정화',\n",
       " '인권',\n",
       " '국제협력',\n",
       " '농어촌']"
      ]
     },
     "execution_count": 139,
     "metadata": {},
     "output_type": "execute_result"
    }
   ],
   "source": [
    "key_voca"
   ]
  },
  {
   "cell_type": "code",
   "execution_count": 232,
   "metadata": {
    "scrolled": true
   },
   "outputs": [
    {
     "name": "stdout",
     "output_type": "stream",
     "text": [
      "0 번째 Matrix 최대값 : [10] 번째, 나온 횟수 : 2번\n",
      "['농어촌'] \n",
      "\n",
      "1 번째 Matrix 최대값 : [8] 번째, 나온 횟수 : 1번\n",
      "['인권'] \n",
      "\n",
      "2 번째 Matrix 최대값 : [7] 번째, 나온 횟수 : 2번\n",
      "['환경정화'] \n",
      "\n",
      "3 번째 Matrix 최대값 : [0 8] 번째, 나온 횟수 : 6번\n",
      "['생활편의지원', '인권'] \n",
      "\n",
      "4 번째 Matrix 최대값 : [6] 번째, 나온 횟수 : 3번\n",
      "['문화체육'] \n",
      "\n",
      "5 번째 Matrix 최대값 : [7] 번째, 나온 횟수 : 1번\n",
      "['환경정화'] \n",
      "\n",
      "6 번째 Matrix 최대값 : [4 6] 번째, 나온 횟수 : 1번\n",
      "['교육', '문화체육'] \n",
      "\n",
      "7 번째 Matrix 최대값 : [4] 번째, 나온 횟수 : 3번\n",
      "['교육'] \n",
      "\n",
      "8 번째 Matrix 최대값 : [0] 번째, 나온 횟수 : 1번\n",
      "['생활편의지원'] \n",
      "\n",
      "9 번째 Matrix 최대값 : [8] 번째, 나온 횟수 : 1번\n",
      "['인권'] \n",
      "\n"
     ]
    }
   ],
   "source": [
    "# Matrix = voca x dics 행렬\n",
    "for i in range(len(dics)):\n",
    "    arr = np.array(Matrix[i])\n",
    "    maxarr = np.where(arr == max(Matrix[i]))\n",
    "    print('{0} 번째 Matrix 최대값 : {1} 번째, 나온 횟수 : {2}번'.format(\n",
    "        i,maxarr[0],Matrix[i][maxarr[0][0]]))\n",
    "    name =[]\n",
    "    for j in range(len(maxarr[0])):\n",
    "        name.append(key_voca[maxarr[0][j]])\n",
    "    print(name,'\\n')\n"
   ]
  }
 ],
 "metadata": {
  "kernelspec": {
   "display_name": "Python 3",
   "language": "python",
   "name": "python3"
  },
  "language_info": {
   "codemirror_mode": {
    "name": "ipython",
    "version": 3
   },
   "file_extension": ".py",
   "mimetype": "text/x-python",
   "name": "python",
   "nbconvert_exporter": "python",
   "pygments_lexer": "ipython3",
   "version": "3.6.5"
  }
 },
 "nbformat": 4,
 "nbformat_minor": 2
}
