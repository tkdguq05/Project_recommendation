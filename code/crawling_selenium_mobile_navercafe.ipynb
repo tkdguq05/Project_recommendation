{
 "cells": [
  {
   "cell_type": "code",
   "execution_count": 4,
   "metadata": {},
   "outputs": [],
   "source": [
    "from selenium import webdriver\n",
    "from bs4 import BeautifulSoup\n",
    "import pandas as pd\n",
    "import time\n",
    "import re\n",
    "import csv"
   ]
  },
  {
   "cell_type": "code",
   "execution_count": 34,
   "metadata": {},
   "outputs": [],
   "source": [
    "# chromedriver는 다운로드 후 경로 지정을 해줘야 한다. (현재는 같은 폴더 \n",
    "driver = webdriver.Chrome()\n",
    "driver.implicitly_wait(3)"
   ]
  },
  {
   "cell_type": "code",
   "execution_count": 35,
   "metadata": {},
   "outputs": [],
   "source": [
    "# 로그인 전용 화면\n",
    "driver.get('https://nid.naver.com/nidlogin.login')\n",
    "# 아이디와 비밀번호 입력\n",
    "time.sleep(2)\n",
    "driver.find_element_by_name('id').send_keys('tjdcks9243')\n",
    "driver.find_element_by_name('pw').send_keys('**********')\n",
    "# 로그인 버튼 클릭\n",
    "time.sleep(2)\n",
    "driver.find_element_by_css_selector('#frmNIDLogin > fieldset > input').click()"
   ]
  },
  {
   "cell_type": "code",
   "execution_count": 36,
   "metadata": {
    "scrolled": true
   },
   "outputs": [],
   "source": [
    "k_base_url = 'https://m.cafe.naver.com/ArticleList.nhn?search.clubid=15754634&search.menuid=33'\n",
    "n_base_url = 'https://m.cafe.naver.com/ArticleList.nhn?search.clubid=15754634&search.menuid=24'\n",
    "test_list = []\n",
    "\n",
    "# 국내봉사\n",
    "driver.get(k_base_url)\n",
    "# iframe으로 프레임 전환\n",
    "#     driver.switch_to_frame('cafe_main')\n",
    "for i in range(0,20):\n",
    "    time.sleep(0.5)\n",
    "    driver.find_element_by_xpath('//*[@id=\"btnNextList\"]/a').click()\n",
    "# # href 속성을 찾아 url을 리스트로 저장한다.\n",
    "article_list = driver.find_elements_by_css_selector('li.board_box a.txt_area')\n",
    "article_urls = [ i.get_attribute('href') for i in article_list ]\n",
    "\n",
    "for link in article_urls:\n",
    "    test_list.append(link)\n",
    "    \n",
    "# # 해외봉사\n",
    "driver.get(n_base_url)\n",
    "# iframe으로 프레임 전환\n",
    "#     driver.switch_to_frame('cafe_main')\n",
    "for i in range(0,20):\n",
    "    time.sleep(0.5)\n",
    "    driver.find_element_by_xpath('//*[@id=\"btnNextList\"]/a').click()\n",
    "# # href 속성을 찾아 url을 리스트로 저장한다.\n",
    "article_list = driver.find_elements_by_css_selector('li.board_box a.txt_area')\n",
    "article_urls = [ i.get_attribute('href') for i in article_list ]\n",
    "\n",
    "for link in article_urls:\n",
    "    test_list.append(link)\n",
    "    \n",
    "# find_content(test_list)"
   ]
  },
  {
   "cell_type": "code",
   "execution_count": 37,
   "metadata": {},
   "outputs": [
    {
     "data": {
      "text/plain": [
       "800"
      ]
     },
     "execution_count": 37,
     "metadata": {},
     "output_type": "execute_result"
    }
   ],
   "source": [
    "len(test_list)\n",
    "# 1000"
   ]
  },
  {
   "cell_type": "code",
   "execution_count": 38,
   "metadata": {},
   "outputs": [],
   "source": [
    "total_list=['제목','작성 날짜','주최사','활동내용','모집 기간','모집 인원','모집 대상',\n",
    "            '참가 비용 유/무','우대 사항','활동 지역','활동 기간']\n",
    "\n",
    "f = open('mobile_spec_up4.csv', 'w', encoding='ansi', newline='')\n",
    "wr = csv.writer(f)\n",
    "wr.writerow([total_list[0], total_list[1], total_list[2],total_list[3],total_list[4],total_list[5],\n",
    "             total_list[6],total_list[7],total_list[8],total_list[9],total_list[10]])\n",
    "f.close()"
   ]
  },
  {
   "cell_type": "code",
   "execution_count": 42,
   "metadata": {},
   "outputs": [],
   "source": [
    "find_content(test_list)"
   ]
  },
  {
   "cell_type": "code",
   "execution_count": 41,
   "metadata": {},
   "outputs": [],
   "source": [
    "def find_content(url_list):\n",
    "    total_lists = []\n",
    "    for i in range(len(url_list)):\n",
    "        driver.get(url_list[i])\n",
    "        html = BeautifulSoup(driver.page_source , 'html.parser')\n",
    "        content_tags = html.select('#postContent')\n",
    "        # 본문 내용을 줄바꿈 기준으로 다 붙이기\n",
    "        # 각 항목마다 쓸데없이 \\xa0▷ 요게 붙여져서 정규화 처리\n",
    "        content = ' '.join([tags.get_text().replace(\"\\xa0\",\"\").replace(\"▷\",\"\") for tags in content_tags])\n",
    "        # 제목가져오기\n",
    "        titles = html.select(\"h2.tit\")\n",
    "        # 날짜가져오기\n",
    "        dates = html.select(\"span.date.font_l\")\n",
    "        # 전체 개수를 알아보기 위해 t 변수 저장\n",
    "        # find_location : 크롤링한 content를 처리해주기 위해서 만듬\n",
    "        t = find_location('mobile_spec_up4.csv',titles, dates, content)\n",
    "        total_lists.append(t)"
   ]
  },
  {
   "cell_type": "code",
   "execution_count": 10,
   "metadata": {},
   "outputs": [],
   "source": [
    "def find_location(name,title,dates,test):\n",
    "    \n",
    "    fl=[]\n",
    "    temp_list = []\n",
    "    new_list= []\n",
    "    \n",
    "    \n",
    "    ############################################\n",
    "    #\n",
    "    # 여기에 조건을 주자.\n",
    "    #\n",
    "    ############################################\n",
    "\n",
    "    # 주최사 / 활동명 -> activity_name + 9\n",
    "    activity_name = test.find(\"주최사\")\n",
    "    # 활동내용 -> activity_content + 4\n",
    "    activity_content = test.find(\"활동내용\")\n",
    "    # 모집 기간 -> recruit_date + 5\n",
    "    recruit_date = test.find(\"모집 기간\")\n",
    "    # 모집 인원 + 5\n",
    "    recruit_people = test.find(\"모집 인원\")\n",
    "    # 모집 대상 + 5 & 16\n",
    "    recruit_target = test.find(\"모집 대상\")\n",
    "\n",
    "    if test.find('(+졸업생 가능여부)') == -1:\n",
    "        recruit_target_num = 5    \n",
    "    else:\n",
    "        recruit_target_num = 16\n",
    "    \n",
    "    # 참가 비용 유/무 + 9 \n",
    "    fee = test.find(\"참가 비용 유/무\")\n",
    "    # 우대 사항 + 5\n",
    "    preferential_treatment = test.find(\"우대 사항\")\n",
    "    # 활동 지역 + 5\n",
    "    activity_nation = test.find(\"활동 지역\")\n",
    "    # 활동 기간 + 5\n",
    "    activity_period = test.find(\"활동 기간\")\n",
    "    # 활동 혜택 + 5\n",
    "    activity_bonus = test.find(\"활동 혜택\")\n",
    "        \n",
    "#     if (activity_name | activity_content | recruit_date | recruit_people | recruit_target | fee | preferential_treatment | activity_nation | activity_period | activity_bonus | offline | method_appliance | cafe_blog_sns | etc) != -1:\n",
    "    \n",
    "    #저장된 제목 값이 없으면, 저장 안 함\n",
    "    if len(title) != 0:\n",
    "        # 제목 처리\n",
    "        titles = title[0].get_text()\n",
    "        titles=titles.replace(\"[대외활동]\",\"\")\n",
    "        dates = dates[0].get_text()\n",
    "        dates_ = re.sub(r\"[.]\",\"\",dates)\n",
    "        dates = dates_[:8]\n",
    "        # find의 값이 없으면, -1을 리턴한다.\n",
    "        # 활동 이름이 없으면,\n",
    "        if activity_name != -1:\n",
    "            fl.append(activity_name)\n",
    "            fl.append(activity_content)\n",
    "            fl.append(recruit_date)\n",
    "            fl.append(recruit_people)\n",
    "            fl.append(recruit_target)\n",
    "            fl.append(fee)\n",
    "            \n",
    "            fl.append(preferential_treatment)\n",
    "            fl.append(activity_nation)\n",
    "            fl.append(activity_period)\n",
    "            fl.append(activity_bonus)\n",
    "\n",
    "            a0 = re.sub(r\"[-]\",\"\",test[fl[0]+9:fl[1]].strip())\n",
    "            a1 = re.sub(r\"[-]\",\"\",test[fl[1]+4:fl[2]].strip())\n",
    "            a2 = re.sub(r\"[-]\",\"\",test[fl[2]+5:fl[3]].strip())\n",
    "            a3 = re.sub(r\"[-]\",\"\",test[fl[3]+5:fl[4]].strip())\n",
    "            a4 = re.sub(r\"[-]\",\"\",test[fl[4]+recruit_target_num:fl[5]].strip())\n",
    "\n",
    "            # 참가 비용이 없다면 모집 대상 <-> 우대사항으로 끊어서 결정해\n",
    "            if fee == -1:\n",
    "                a4 = re.sub(r\"[-]\",\"\",test[fl[4]+recruit_target_num:fl[6]].strip())\n",
    "                a6 = re.sub(r\"[-]\",\"\",test[fl[6]+5:fl[7]].strip())\n",
    "                # 참가비용ㄴ 우대 사항ㄴ, 모집 대상 <-> 활동 지역으로 끊어서 저장\n",
    "                if preferential_treatment == -1:\n",
    "                    a4 = re.sub(r\"[-]\",\"\",test[fl[4]+recruit_target_num:fl[7]].strip())\n",
    "                # 참가비용ㄴ 우대사항ㅇ\n",
    "                else:\n",
    "                    a4 = re.sub(r\"[-]\",\"\",test[fl[4]+recruit_target_num:fl[5]].strip())\n",
    "                    a6 = re.sub(r\"[-]\",\"\",test[fl[4]+recruit_target_num:fl[7]].strip())\n",
    "            # 참가 비용 있다면\n",
    "            else:\n",
    "                # 참가비용 ㅇ 우대사항 ㄴ\n",
    "                if preferential_treatment == -1:\n",
    "                    a5 = re.sub(r\"[-]\",\"\",test[fl[5]+9:fl[7]].strip())\n",
    "                # 참가비용 ㅇ 우대사항 ㅇ\n",
    "                else:\n",
    "                    a5 = re.sub(r\"[-]\",\"\",test[fl[5]+9:fl[6]].strip())\n",
    "                    a6 = re.sub(r\"[-]\",\"\",test[fl[6]+5:fl[7]].strip())\n",
    "\n",
    "            a7 = re.sub(r\"[-]\",\"\",test[fl[7]+5:fl[8]].strip())\n",
    "            a8 = re.sub(r\"[-]\",\"\",test[fl[8]+5:fl[9]].strip())\n",
    "\n",
    "            if activity_content == -1:\n",
    "                a1 = \"\"\n",
    "            if recruit_date == -1:\n",
    "                a2 = \"\"\n",
    "            if recruit_people == -1:\n",
    "                a3 = \"\"\n",
    "            if recruit_target == -1:\n",
    "                a4 = \"\"\n",
    "            if fee == -1:\n",
    "                a5 = \"\"\n",
    "            if preferential_treatment == -1:\n",
    "                a6 = \"\"\n",
    "            if activity_nation == -1:\n",
    "                a7 = \"\"\n",
    "            if activity_bonus == -1:\n",
    "                a8 = \"\"\n",
    "\n",
    "            # 주최사 / 활동명에서 주최사만 분리\n",
    "            if a0.find(',') is not -1:\n",
    "                a0 = a0[ :a0.find(',')].strip()\n",
    "            if a0.find('/') is not -1:\n",
    "                a0 = a0[ :a0.find('/')].strip()\n",
    "\n",
    "#             a1_sub = a1.find(\"(\")\n",
    "#             if a1_sub != -1:\n",
    "#                 a1 = a1[:a1_sub]\n",
    "\n",
    "        #         temp_list=[titles,a1,a2,a3,a4,a5,a6,a7,a8,a9,a10,a11,a12,a13]\n",
    "\n",
    "            temp_list=[titles,dates,a0,a1,a2,a3,a4,a5,a6,a7,a8]\n",
    "            try:\n",
    "                f = open(name, 'a+', encoding='ansi',newline='')\n",
    "                wr = csv.writer(f)\n",
    "                wr.writerow(temp_list)\n",
    "                f.close()\n",
    "            except:\n",
    "                pass\n",
    "\n",
    "    return temp_list"
   ]
  },
  {
   "cell_type": "markdown",
   "metadata": {},
   "source": [
    "-----"
   ]
  },
  {
   "cell_type": "markdown",
   "metadata": {},
   "source": [
    "______"
   ]
  },
  {
   "cell_type": "code",
   "execution_count": 44,
   "metadata": {},
   "outputs": [
    {
     "ename": "NameError",
     "evalue": "name 'df' is not defined",
     "output_type": "error",
     "traceback": [
      "\u001b[1;31m---------------------------------------------------------------------------\u001b[0m",
      "\u001b[1;31mNameError\u001b[0m                                 Traceback (most recent call last)",
      "\u001b[1;32m<ipython-input-44-86d456bfb05c>\u001b[0m in \u001b[0;36m<module>\u001b[1;34m()\u001b[0m\n\u001b[1;32m----> 1\u001b[1;33m \u001b[0ma\u001b[0m \u001b[1;33m=\u001b[0m \u001b[0mdf\u001b[0m\u001b[1;33m[\u001b[0m\u001b[1;34m\"모집 기간\"\u001b[0m\u001b[1;33m]\u001b[0m\u001b[1;33m[\u001b[0m\u001b[1;36m0\u001b[0m\u001b[1;33m]\u001b[0m\u001b[1;33m\u001b[0m\u001b[0m\n\u001b[0m\u001b[0;32m      2\u001b[0m \u001b[0mnew_a\u001b[0m \u001b[1;33m=\u001b[0m \u001b[0mre\u001b[0m\u001b[1;33m.\u001b[0m\u001b[0msub\u001b[0m\u001b[1;33m(\u001b[0m\u001b[1;34mr\"[^0-9~]\"\u001b[0m\u001b[1;33m,\u001b[0m\u001b[1;34m\"\"\u001b[0m\u001b[1;33m,\u001b[0m\u001b[0ma\u001b[0m\u001b[1;33m)\u001b[0m\u001b[1;33m\u001b[0m\u001b[0m\n\u001b[0;32m      3\u001b[0m \u001b[0mfa\u001b[0m \u001b[1;33m=\u001b[0m \u001b[0mnew_a\u001b[0m\u001b[1;33m.\u001b[0m\u001b[0mfind\u001b[0m\u001b[1;33m(\u001b[0m\u001b[1;34m'~'\u001b[0m\u001b[1;33m)\u001b[0m\u001b[1;33m\u001b[0m\u001b[0m\n\u001b[0;32m      4\u001b[0m \u001b[0mfirst_a\u001b[0m \u001b[1;33m=\u001b[0m \u001b[0mnew_a\u001b[0m\u001b[1;33m[\u001b[0m\u001b[1;33m:\u001b[0m\u001b[0mfa\u001b[0m\u001b[1;33m]\u001b[0m\u001b[1;33m\u001b[0m\u001b[0m\n\u001b[0;32m      5\u001b[0m \u001b[0mend_a\u001b[0m \u001b[1;33m=\u001b[0m \u001b[0mnew_a\u001b[0m\u001b[1;33m[\u001b[0m\u001b[0mfa\u001b[0m\u001b[1;33m+\u001b[0m\u001b[1;36m1\u001b[0m\u001b[1;33m:\u001b[0m\u001b[1;33m]\u001b[0m\u001b[1;33m\u001b[0m\u001b[0m\n",
      "\u001b[1;31mNameError\u001b[0m: name 'df' is not defined"
     ]
    }
   ],
   "source": [
    "a = df[\"모집 기간\"][0]\n",
    "new_a = re.sub(r\"[^0-9~]\",\"\",a)\n",
    "fa = new_a.find('~')\n",
    "first_a = new_a[:fa]\n",
    "end_a = new_a[fa+1:]\n",
    "\n",
    "if len(first_a) != 8:\n",
    "    if first_a.find('2018') == -1:\n",
    "        # ex) 7월 17일 => 717\n",
    "        if len(first_a) == 3:\n",
    "            if first_a[0] == '0':\n",
    "                first_a += \"2018\"\n",
    "            else:\n",
    "                first_a += \"20180\"\n",
    "        elif len(first_a) == 4:\n",
    "            "
   ]
  },
  {
   "cell_type": "code",
   "execution_count": 200,
   "metadata": {},
   "outputs": [
    {
     "data": {
      "text/plain": [
       "'20180718'"
      ]
     },
     "execution_count": 200,
     "metadata": {},
     "output_type": "execute_result"
    }
   ],
   "source": [
    "a[:4]+'0'+a[4:]"
   ]
  },
  {
   "cell_type": "code",
   "execution_count": 45,
   "metadata": {},
   "outputs": [
    {
     "ename": "NameError",
     "evalue": "name 'a' is not defined",
     "output_type": "error",
     "traceback": [
      "\u001b[1;31m---------------------------------------------------------------------------\u001b[0m",
      "\u001b[1;31mNameError\u001b[0m                                 Traceback (most recent call last)",
      "\u001b[1;32m<ipython-input-45-6a34a805d695>\u001b[0m in \u001b[0;36m<module>\u001b[1;34m()\u001b[0m\n\u001b[1;32m----> 1\u001b[1;33m \u001b[1;32mif\u001b[0m \u001b[0ma\u001b[0m\u001b[1;33m.\u001b[0m\u001b[0mfind\u001b[0m\u001b[1;33m(\u001b[0m\u001b[1;34m'~'\u001b[0m\u001b[1;33m)\u001b[0m\u001b[1;33m:\u001b[0m\u001b[1;33m\u001b[0m\u001b[0m\n\u001b[0m\u001b[0;32m      2\u001b[0m     \u001b[0mnew_a\u001b[0m \u001b[1;33m=\u001b[0m \u001b[0mre\u001b[0m\u001b[1;33m.\u001b[0m\u001b[0msub\u001b[0m\u001b[1;33m(\u001b[0m\u001b[1;34mr\"[^0-9~]\"\u001b[0m\u001b[1;33m,\u001b[0m\u001b[1;34m\"\"\u001b[0m\u001b[1;33m,\u001b[0m\u001b[0ma\u001b[0m\u001b[1;33m)\u001b[0m\u001b[1;33m\u001b[0m\u001b[0m\n\u001b[0;32m      3\u001b[0m \u001b[1;33m\u001b[0m\u001b[0m\n\u001b[0;32m      4\u001b[0m     \u001b[0maf\u001b[0m \u001b[1;33m=\u001b[0m \u001b[0mnew_a\u001b[0m\u001b[1;33m[\u001b[0m\u001b[1;33m:\u001b[0m\u001b[0mnew_a\u001b[0m\u001b[1;33m.\u001b[0m\u001b[0mfind\u001b[0m\u001b[1;33m(\u001b[0m\u001b[1;34m'~'\u001b[0m\u001b[1;33m)\u001b[0m\u001b[1;33m]\u001b[0m\u001b[1;33m\u001b[0m\u001b[0m\n\u001b[0;32m      5\u001b[0m     \u001b[0mal\u001b[0m \u001b[1;33m=\u001b[0m \u001b[0mnew_a\u001b[0m\u001b[1;33m[\u001b[0m\u001b[0mnew_a\u001b[0m\u001b[1;33m.\u001b[0m\u001b[0mfind\u001b[0m\u001b[1;33m(\u001b[0m\u001b[1;34m'~'\u001b[0m\u001b[1;33m)\u001b[0m\u001b[1;33m+\u001b[0m\u001b[1;36m1\u001b[0m\u001b[1;33m:\u001b[0m\u001b[1;33m]\u001b[0m\u001b[1;33m\u001b[0m\u001b[0m\n",
      "\u001b[1;31mNameError\u001b[0m: name 'a' is not defined"
     ]
    }
   ],
   "source": [
    "if a.find('~'):\n",
    "    new_a = re.sub(r\"[^0-9~]\",\"\",a)\n",
    "\n",
    "    af = new_a[:new_a.find('~')]\n",
    "    al = new_a[new_a.find('~')+1:]\n",
    "\n",
    "    if af[0] != 0:\n",
    "        af = str(20180)+af\n",
    "\n",
    "    if al[0] != 0:\n",
    "        al = str(20180)+al\n",
    "\n",
    "    print(\"start\", af)\n",
    "    print(\"end\", al)"
   ]
  },
  {
   "cell_type": "markdown",
   "metadata": {},
   "source": [
    "----"
   ]
  }
 ],
 "metadata": {
  "kernelspec": {
   "display_name": "Python 3",
   "language": "python",
   "name": "python3"
  },
  "language_info": {
   "codemirror_mode": {
    "name": "ipython",
    "version": 3
   },
   "file_extension": ".py",
   "mimetype": "text/x-python",
   "name": "python",
   "nbconvert_exporter": "python",
   "pygments_lexer": "ipython3",
   "version": "3.6.5"
  }
 },
 "nbformat": 4,
 "nbformat_minor": 2
}
